{
 "cells": [
  {
   "cell_type": "markdown",
   "metadata": {},
   "source": [
    "IMPORT LIBRARIES"
   ]
  },
  {
   "cell_type": "code",
   "execution_count": 1,
   "metadata": {},
   "outputs": [
    {
     "name": "stdout",
     "output_type": "stream",
     "text": [
      "libraries imported\n"
     ]
    }
   ],
   "source": [
    "from sqlalchemy import create_engine, Column, String, Integer, CHAR, ForeignKey, insert\n",
    "from sqlalchemy.ext.declarative import declarative_base\n",
    "from sqlalchemy.orm import sessionmaker\n",
    "print(\"libraries imported\")"
   ]
  },
  {
   "cell_type": "code",
   "execution_count": 2,
   "metadata": {},
   "outputs": [],
   "source": [
    "Base = declarative_base()\n",
    "\n",
    "engine = create_engine(\"sqlite:///sql-murder-mystery.db\", connect_args={'timeout': 30})\n",
    "Base.metadata.create_all(bind=engine)\n",
    "\n",
    "Session = sessionmaker(bind=engine)\n",
    "session = Session()"
   ]
  },
  {
   "cell_type": "code",
   "execution_count": 3,
   "metadata": {},
   "outputs": [
    {
     "data": {
      "text/plain": [
       "FacadeDict({})"
      ]
     },
     "execution_count": 3,
     "metadata": {},
     "output_type": "execute_result"
    }
   ],
   "source": [
    "Base.metadata.tables"
   ]
  },
  {
   "cell_type": "markdown",
   "metadata": {},
   "source": [
    "CREATING OBJECTS OF ALL THE TABLES"
   ]
  },
  {
   "cell_type": "code",
   "execution_count": 4,
   "metadata": {},
   "outputs": [],
   "source": [
    "class crime_scene_report(Base):\n",
    "    __tablename__ = \"crime_scene_report\"\n",
    "\n",
    "    date = Column(\"date\", Integer)\n",
    "    type = Column(\"type\", String)\n",
    "    desc = Column(\"description\", String, primary_key=True)\n",
    "    city = Column(\"city\", String)\n",
    "\n",
    "    # def __init__(self,date,type,desc,city):\n",
    "    #     self.date=date\n",
    "    #     self.type=type\n",
    "    #     self.desc=desc\n",
    "    #     self.city=city\n",
    "\n",
    "    def __repr__(self):\n",
    "        return f\"({self.date} || {self.type} || {self.desc} || {self.city})\"\n",
    "\n",
    "        \n",
    "class drivers_license(Base):\n",
    "    __tablename__ = \"drivers_license\"\n",
    "\n",
    "    id=Column(\"id\",Integer, primary_key=True)\n",
    "    age=Column(\"age\", Integer)\n",
    "    height=Column(\"height\", Integer)\n",
    "    eye_color=Column(\"eye_color\", String)\n",
    "    hair_color=Column(\"hair_color\", String)\n",
    "    gender=Column(\"gender\", String)\n",
    "    plate_number=Column(\"plate_number\", String)\n",
    "    car_make=Column(\"car_make\", String)\n",
    "    car_model=Column(\"car_model\", String)\n",
    "\n",
    "    def __repr__(self):\n",
    "        return f\"({self.id} || {self.age} || {self.height} || {self.eye_color} || {self.hair_color} || {self.gender} || {self.plate_number} || {self.car_make} || {self.car_model})\"\n",
    "\n",
    "\n",
    "class income(Base):\n",
    "    __tablename__ = \"income\"\n",
    "\n",
    "    ssn = Column(\"ssn\", CHAR, primary_key=True)\n",
    "    annual_income = Column(\"annual_income\", Integer)\n",
    "\n",
    "    def __repr__(self):\n",
    "        return f\"({self.ssn} || {self.annual_income})\"\n",
    "\n",
    "\n",
    "class person(Base):\n",
    "    __tablename__ = \"person\"\n",
    "    \n",
    "    id = Column(\"id\", Integer, primary_key=True)\n",
    "    name = Column(\"name\", String) \n",
    "    license_id = Column(\"license_id\", Integer, ForeignKey(drivers_license.id))\n",
    "    address_number = Column(\"address_number\", Integer)\n",
    "    address_street_name = Column(\"address_street_name\", String)\n",
    "    ssn = Column(\"ssn\", Integer, ForeignKey(income.ssn))    \n",
    "\n",
    "    def __repr__(self):\n",
    "        return f\"({self.id} || {self.name} || {self.license_id} || {self.address_number} || {self.address_street_name} || {self.ssn})\"\n",
    "    \n",
    "\n",
    "class facebook_event_checkin(Base):\n",
    "    __tablename__ = \"facebook_event_checkin\"\n",
    "\n",
    "    person_id = Column(\"person_id\", Integer, ForeignKey(person.id), primary_key=True)\n",
    "    event_id = Column(\"event_id\", Integer)\n",
    "    event_name = Column(\"event_name\", String)\n",
    "    date =Column(\"date\", Integer)\n",
    "\n",
    "    def __repr__(self):\n",
    "        return f\"({self.person_id} || {self.event_id} || {self.event_name} || {self.date})\"\n",
    "\n",
    "\n",
    "class get_fit_now_member(Base):\n",
    "    __tablename__ = \"get_fit_now_member\"\n",
    "\n",
    "    id = Column(\"id\", String, primary_key=True)\n",
    "    person_id = Column(\"person_id\", Integer, ForeignKey(person.id))\n",
    "    name = Column(\"name\", String)\n",
    "    membership_start_date = Column(\"membership_start_date\", Integer)\n",
    "    membership_status = Column(\"membership_status\", Integer)    \n",
    "\n",
    "    def __repr__(self):\n",
    "        return f\"({self.id} || {self.person_id} || {self.name} || {self.membership_start_date} ||{self.membership_status})\" \n",
    "\n",
    "\n",
    "class get_fit_now_check_in(Base):\n",
    "    __tablename__ = \"get_fit_now_check_in\"\n",
    "    \n",
    "    membership_id=Column(\"membership_id\", String, ForeignKey(get_fit_now_member.id), primary_key=True)\n",
    "    check_in_date=Column(\"check_in_date\", Integer)\n",
    "    check_in_time=Column(\"check_in_time\", Integer)\n",
    "    check_out_time=Column(\"check_out_time\", Integer)\n",
    "\n",
    "    def __repr__(self):\n",
    "        return f\"({self.membership_id} || {self.check_in_date} || {self.check_in_time} || {self.check_out_time})\"\n",
    "\n",
    "\n",
    "class interview(Base):\n",
    "    __tablename__ = \"interview\"\n",
    "\n",
    "    person_id = Column(\"person_id\", Integer, ForeignKey(person.id), primary_key=True)\n",
    "    transcript = Column(\"transcript\", String)\n",
    "\n",
    "    def __init__(self,person_id,transcipt):\n",
    "        self.person_id=person_id\n",
    "        self.transcript=transcript\n",
    "\n",
    "    def __repr__(self):\n",
    "        return f\"({self.person_id} || {self.transcript})\"\n",
    "\n",
    "class solution(Base):\n",
    "\n",
    "    __tablename__ = \"solution\"\n",
    "    \n",
    "    user = Column(\"user\",Integer,primary_key=True)\n",
    "    value = Column(\"value\", String)\n",
    "\n",
    "    def __init__(self,user,value):\n",
    "        self.user = user\n",
    "        self.value = value\n",
    "\n",
    "    def __repr__(self):\n",
    "        return f\"({self.user} || {self.value})\"\n",
    "                   "
   ]
  },
  {
   "cell_type": "markdown",
   "metadata": {},
   "source": [
    "QUERYING TO FIND THE SOLUTION"
   ]
  },
  {
   "cell_type": "code",
   "execution_count": 5,
   "metadata": {},
   "outputs": [
    {
     "name": "stdout",
     "output_type": "stream",
     "text": [
      "780\n"
     ]
    }
   ],
   "source": [
    "results = session.query(crime_scene_report).all()\n",
    "print(len(results))"
   ]
  },
  {
   "cell_type": "code",
   "execution_count": 6,
   "metadata": {},
   "outputs": [
    {
     "name": "stdout",
     "output_type": "stream",
     "text": [
      "(20180115 || murder || Security footage shows that there were 2 witnesses. The first witness lives at the last house on \"Northwestern Dr\". The second witness, named Annabel, lives somewhere on \"Franklin Ave\". || SQL City)\n"
     ]
    }
   ],
   "source": [
    "search = session.query(crime_scene_report).filter(crime_scene_report.date == 20180115).filter(crime_scene_report.city == \"SQL City\").filter(crime_scene_report.type == \"murder\").all()\n",
    "print(*search, sep = \"\\n\")"
   ]
  },
  {
   "cell_type": "code",
   "execution_count": 7,
   "metadata": {},
   "outputs": [
    {
     "name": "stdout",
     "output_type": "stream",
     "text": [
      "(16371 || Annabel Miller || 490173 || 103 || Franklin Ave || 318771143)\n"
     ]
    }
   ],
   "source": [
    "search1 = session.query(person).filter(person.name.like(\"Annabel%\")).filter(person.address_street_name==\"Franklin Ave\").all()\n",
    "\n",
    "print(*search1,sep =\"\\n\")\n",
    "# print(len(search1)) "
   ]
  },
  {
   "cell_type": "code",
   "execution_count": 8,
   "metadata": {},
   "outputs": [
    {
     "name": "stdout",
     "output_type": "stream",
     "text": [
      "(14887 || Morty Schapiro || 118009 || 4919 || Northwestern Dr || 111564949)\n"
     ]
    }
   ],
   "source": [
    "search2 = session.query(person).filter(person.address_street_name==\"Northwestern Dr\").order_by(person.address_number.desc()).first()\n",
    "print(search2,sep=\"\\n\")"
   ]
  },
  {
   "cell_type": "code",
   "execution_count": 9,
   "metadata": {},
   "outputs": [
    {
     "name": "stdout",
     "output_type": "stream",
     "text": [
      "(14887 || I heard a gunshot and then saw a man run out. He had a \"Get Fit Now Gym\" bag. The membership number on the bag started with \"48Z\". Only gold members have those bags. The man got into a car with a plate that included \"H42W\".)\n",
      "(16371 || I saw the murder happen, and I recognized the killer from my gym when I was working out last week on January the 9th.)\n"
     ]
    }
   ],
   "source": [
    "search3 = session.query(interview).filter(interview.person_id.in_((16371,14887))).all()\n",
    "print(*search3,sep=\"\\n\")"
   ]
  },
  {
   "cell_type": "code",
   "execution_count": 10,
   "metadata": {},
   "outputs": [
    {
     "name": "stdout",
     "output_type": "stream",
     "text": [
      "(48Z7A || 28819 || Joe Germuska || 20160305 ||gold)\n",
      "(48Z55 || 67318 || Jeremy Bowers || 20160101 ||gold)\n"
     ]
    }
   ],
   "source": [
    "search4 = session.query(get_fit_now_member).filter(get_fit_now_member.membership_status.like(\"g%\")).filter(get_fit_now_member.id.like(\"48Z%\")).all()\n",
    "print(*search4,sep=\"\\n\")\n",
    "# print(search4)\n"
   ]
  },
  {
   "cell_type": "code",
   "execution_count": 11,
   "metadata": {},
   "outputs": [
    {
     "name": "stdout",
     "output_type": "stream",
     "text": [
      "(28819 || Joe Germuska || 173289 || 111 || Fisk Rd || 138909730)\n",
      "(67318 || Jeremy Bowers || 423327 || 530 || Washington Pl, Apt 3A || 871539279)\n"
     ]
    }
   ],
   "source": [
    "search5 = session.query(person).filter(person.id.in_((28819,67318))).all()\n",
    "print(*search5,sep=\"\\n\")"
   ]
  },
  {
   "cell_type": "code",
   "execution_count": 12,
   "metadata": {},
   "outputs": [
    {
     "name": "stdout",
     "output_type": "stream",
     "text": [
      "(X0643 || 20180109 || 957 || 1164)\n",
      "(UK1F2 || 20180109 || 344 || 518)\n",
      "(XTE42 || 20180109 || 486 || 1124)\n",
      "(1AE2H || 20180109 || 461 || 944)\n",
      "(6LSTG || 20180109 || 399 || 515)\n",
      "(7MWHJ || 20180109 || 273 || 885)\n",
      "(GE5Q8 || 20180109 || 367 || 959)\n",
      "(48Z7A || 20180109 || 1600 || 1730)\n",
      "(48Z55 || 20180109 || 1530 || 1700)\n",
      "(90081 || 20180109 || 1600 || 1700)\n"
     ]
    }
   ],
   "source": [
    "search6 = session.query(get_fit_now_check_in).filter(get_fit_now_check_in.check_in_date==20180109).all()\n",
    "print(*search6,sep=\"\\n\")"
   ]
  },
  {
   "cell_type": "code",
   "execution_count": 13,
   "metadata": {},
   "outputs": [
    {
     "name": "stdout",
     "output_type": "stream",
     "text": [
      "[(183779 || 21 || 65 || blue || blonde || female || H42W0X || Toyota || Prius)]\n"
     ]
    }
   ],
   "source": [
    "search6= session.query(drivers_license).filter(drivers_license.plate_number.like(\"H42W%\")).all()\n",
    "print(search6)"
   ]
  },
  {
   "cell_type": "code",
   "execution_count": 14,
   "metadata": {},
   "outputs": [
    {
     "name": "stdout",
     "output_type": "stream",
     "text": [
      "[(78193 || Maxine Whitely || 183779 || 110 || Fisk Rd || 137882671)]\n"
     ]
    }
   ],
   "source": [
    "search7=session.query(person).filter(person.license_id==183779).all()\n",
    "print(search7)"
   ]
  },
  {
   "cell_type": "code",
   "execution_count": 15,
   "metadata": {},
   "outputs": [
    {
     "name": "stdout",
     "output_type": "stream",
     "text": [
      "[(67318 || I was hired by a woman with a lot of money. I don't know her name but I know she's around 5'5\" (65\") or 5'7\" (67\"). She has red hair and she drives a Tesla Model S. I know that she attended the SQL Symphony Concert 3 times in December 2017.\n",
      ")]\n"
     ]
    }
   ],
   "source": [
    "search7 = session.query(interview).filter(interview.person_id.in_((28819,67318,78193))).all()\n",
    "print(search7)"
   ]
  },
  {
   "cell_type": "code",
   "execution_count": 16,
   "metadata": {},
   "outputs": [
    {
     "name": "stdout",
     "output_type": "stream",
     "text": [
      "(1 || Jeremy Bowers)\n"
     ]
    }
   ],
   "source": [
    "# stmt = insert(solution).values(user=1,value=\"Jeremy Bowers\")\n",
    "\n",
    "# print(stmt)\n",
    "\n",
    "# session.execute(\n",
    "#     solution.insert().\n",
    "#     values(user=1,value=\"Jeremy Bowers\")\n",
    "# )\n",
    "\n",
    "ans = solution(1,\"Jeremy Bowers\")\n",
    "print(ans)"
   ]
  },
  {
   "cell_type": "code",
   "execution_count": 17,
   "metadata": {},
   "outputs": [],
   "source": [
    "session.add(ans)\n",
    "# session.commit()"
   ]
  },
  {
   "cell_type": "code",
   "execution_count": 18,
   "metadata": {},
   "outputs": [
    {
     "name": "stdout",
     "output_type": "stream",
     "text": [
      "[(0 || Congrats, you found the murderer! But wait, there's more... If you think you're up for a challenge, try querying the interview transcript of the murderer to find the real villain behind this crime. If you feel especially confident in your SQL skills, try to complete this final step with no more than 2 queries. Use this same INSERT statement with your new suspect to check your answer.)]\n"
     ]
    }
   ],
   "source": [
    "search8 = session.query(solution).all()\n",
    "print(search8)"
   ]
  },
  {
   "cell_type": "code",
   "execution_count": 19,
   "metadata": {},
   "outputs": [
    {
     "name": "stdout",
     "output_type": "stream",
     "text": [
      "(918773 || 48 || 65 || black || red || female || 917UU3 || Tesla || Model S)\n"
     ]
    }
   ],
   "source": [
    "search9 = session.query(drivers_license).filter(drivers_license.height.in_((65,67))).filter(drivers_license.hair_color.like(\"red\")).filter(drivers_license.gender==\"female\").filter(drivers_license.car_make==\"Tesla\").all()\n",
    "print(*search9,sep=\"\\n\")"
   ]
  },
  {
   "cell_type": "code",
   "execution_count": 20,
   "metadata": {},
   "outputs": [
    {
     "name": "stdout",
     "output_type": "stream",
     "text": [
      "[(78881 || Red Korb || 918773 || 107 || Camerata Dr || 961388910)]\n"
     ]
    }
   ],
   "source": [
    "search10 = session.query(person).filter(person.license_id == 918773).all()\n",
    "print(search10)"
   ]
  },
  {
   "cell_type": "code",
   "execution_count": 21,
   "metadata": {},
   "outputs": [
    {
     "name": "stdout",
     "output_type": "stream",
     "text": [
      "[(961388910 || 278000)]\n"
     ]
    }
   ],
   "source": [
    "search11 = session.query(income).filter(income.ssn == 961388910).all()\n",
    "print(search11)"
   ]
  },
  {
   "cell_type": "code",
   "execution_count": 22,
   "metadata": {},
   "outputs": [],
   "source": [
    "ans1 = solution(1,\"Red Korb\")\n",
    "session.add(ans1)"
   ]
  },
  {
   "cell_type": "code",
   "execution_count": 23,
   "metadata": {},
   "outputs": [
    {
     "name": "stdout",
     "output_type": "stream",
     "text": [
      "[(0 || Congrats, you found the murderer! But wait, there's more... If you think you're up for a challenge, try querying the interview transcript of the murderer to find the real villain behind this crime. If you feel especially confident in your SQL skills, try to complete this final step with no more than 2 queries. Use this same INSERT statement with your new suspect to check your answer.)]\n"
     ]
    },
    {
     "name": "stderr",
     "output_type": "stream",
     "text": [
      "C:\\Users\\Lenovo\\AppData\\Local\\Temp\\ipykernel_16896\\4065606535.py:1: SAWarning: New instance <solution at 0x1acd6aefb20> with identity key (<class '__main__.solution'>, (1,), None) conflicts with persistent instance <solution at 0x1acd6ad3a60>\n",
      "  search12 = session.query(solution).all()\n",
      "C:\\Users\\Lenovo\\AppData\\Local\\Temp\\ipykernel_16896\\4065606535.py:1: SAWarning: Identity map already had an identity for (<class '__main__.solution'>, (1,), None), replacing it with newly flushed object.   Are there load operations occurring inside of an event handler within the flush?\n",
      "  search12 = session.query(solution).all()\n"
     ]
    }
   ],
   "source": [
    "search12 = session.query(solution).all()\n",
    "print(search12)\n",
    "\n",
    "session.close()"
   ]
  }
 ],
 "metadata": {
  "kernelspec": {
   "display_name": "Python 3",
   "language": "python",
   "name": "python3"
  },
  "language_info": {
   "codemirror_mode": {
    "name": "ipython",
    "version": 3
   },
   "file_extension": ".py",
   "mimetype": "text/x-python",
   "name": "python",
   "nbconvert_exporter": "python",
   "pygments_lexer": "ipython3",
   "version": "3.10.2"
  },
  "orig_nbformat": 4
 },
 "nbformat": 4,
 "nbformat_minor": 2
}
